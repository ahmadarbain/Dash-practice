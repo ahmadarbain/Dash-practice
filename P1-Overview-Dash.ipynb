{
 "cells": [
  {
   "cell_type": "code",
   "execution_count": 39,
   "id": "willing-louisville",
   "metadata": {},
   "outputs": [],
   "source": [
    "import dash\n",
    "import dash_core_components as dcc\n",
    "import dash_html_components as html\n",
    "import dash_bootstrap_components as dbc"
   ]
  },
  {
   "cell_type": "code",
   "execution_count": 40,
   "id": "fallen-language",
   "metadata": {},
   "outputs": [],
   "source": [
    "app = dash.Dash(__name__,external_stylesheets=[dbc.themes.BOOTSTRAP])"
   ]
  },
  {
   "cell_type": "code",
   "execution_count": 62,
   "id": "industrial-transparency",
   "metadata": {},
   "outputs": [],
   "source": [
    "app.layout = html.Div([\n",
    "    html.H1(children = \"Poverty And Equity Database\",\n",
    "            style = {\n",
    "                'fontSize': '40px',\n",
    "                'textAlign' : 'center'\n",
    "            }),\n",
    "    html.H2(\"The World Bank\"),\n",
    "    html.P(\"Key Facts:\"),\n",
    "        html.Ul([\n",
    "            html.Li('Number of Economies: 170'),\n",
    "            html.Li('Temporal Coverage: 1974 - 2019'),\n",
    "            html.Li('Update Frequency: Quarterly'),\n",
    "            html.Li('Last Updated: March 18, 2020'),\n",
    "            html.Li([\n",
    "                'Source :',\n",
    "                html.A(\n",
    "                children='https://datacatalog.worldbank.org/dataset/poverty-and-equity-database',\n",
    "                href='https://datacatalog.worldbank.org/dataset/poverty-and-equity-database')\n",
    "                ])\n",
    "            ]),\n",
    "    \n",
    "    dbc.Col(children = [\n",
    "       dbc.Tabs([\n",
    "           dbc.Tab([\n",
    "               html.Ul([\n",
    "                   html.Li(\"Number of Economies: 170\")\n",
    "               ])\n",
    "           ], label = 'Key Facts'), \n",
    "           dbc.Tab([\n",
    "               html.Ul([\n",
    "                   html.Br(),\n",
    "                     html.Li('Book title: Interactive Dashboards and Data Apps with Plotly and Dash'),\n",
    "                     html.Li([\n",
    "                         'Github repo :',\n",
    "                         html.A(\n",
    "                         children = 'https://github.com/PacktPublishing/Interactive-Dashboards-and-Data-Apps-with\u0002Plotly-and-Dash',\n",
    "                         href='https://github.com/PacktPublishing/Interactive-Dashboards-and-Data-Apps-with\u0002Plotly-and-Dash'\n",
    "                         )\n",
    "                     ])\n",
    "               ])\n",
    "           ], label = \"project Info\"),\n",
    "       ]) \n",
    "    ], lg=12, md=12)\n",
    "], style = {\n",
    "    'padding' : '20px'\n",
    "})"
   ]
  },
  {
   "cell_type": "code",
   "execution_count": 63,
   "id": "circular-police",
   "metadata": {},
   "outputs": [
    {
     "name": "stdout",
     "output_type": "stream",
     "text": [
      "Dash is running on http://127.0.0.1:8080/\n",
      "\n",
      "Dash is running on http://127.0.0.1:8080/\n",
      "\n",
      "Dash is running on http://127.0.0.1:8080/\n",
      "\n",
      " * Serving Flask app \"__main__\" (lazy loading)\n",
      " * Environment: production\n",
      "   WARNING: This is a development server. Do not use it in a production deployment.\n",
      "   Use a production WSGI server instead.\n",
      " * Debug mode: off\n"
     ]
    }
   ],
   "source": [
    "if __name__ == \"__main__\":\n",
    "    app.run_server(port=8080, debug=False)"
   ]
  },
  {
   "cell_type": "code",
   "execution_count": null,
   "id": "utility-running",
   "metadata": {},
   "outputs": [],
   "source": []
  }
 ],
 "metadata": {
  "kernelspec": {
   "display_name": "Python 3",
   "language": "python",
   "name": "python3"
  },
  "language_info": {
   "codemirror_mode": {
    "name": "ipython",
    "version": 3
   },
   "file_extension": ".py",
   "mimetype": "text/x-python",
   "name": "python",
   "nbconvert_exporter": "python",
   "pygments_lexer": "ipython3",
   "version": "3.7.0"
  }
 },
 "nbformat": 4,
 "nbformat_minor": 5
}
