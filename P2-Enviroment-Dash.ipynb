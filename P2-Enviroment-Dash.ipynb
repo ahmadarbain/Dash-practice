{
 "cells": [
  {
   "cell_type": "code",
   "execution_count": 34,
   "id": "criminal-bulgarian",
   "metadata": {},
   "outputs": [],
   "source": [
    "import dash_core_components as dcc\n",
    "import dash_html_components as html\n",
    "import dash_bootstrap_components as dbc\n",
    "from jupyter_dash import JupyterDash\n",
    "from dash.dependencies import Input, Output"
   ]
  },
  {
   "cell_type": "code",
   "execution_count": 35,
   "id": "canadian-battlefield",
   "metadata": {},
   "outputs": [],
   "source": [
    "app = JupyterDash(__name__)"
   ]
  },
  {
   "cell_type": "code",
   "execution_count": 36,
   "id": "proprietary-removal",
   "metadata": {},
   "outputs": [],
   "source": [
    "app.layout = html.Div([\n",
    "    \n",
    "    html.Div([\n",
    "        html.Div(id='empty_space'),\n",
    "        html.H2(id='h2_text'),\n",
    "        dcc.Slider(id='slider'),\n",
    "    ]),\n",
    "    \n",
    "    \n",
    "    dcc.Dropdown(id=\"color-Dropdown\", \n",
    "                 options=[{'label' : color,'value' : color}\n",
    "                          for color in ['blue', 'green','yellow']]),\n",
    "    html.Br(),\n",
    "    html.Div(id=\"color-output\")\n",
    "])"
   ]
  },
  {
   "cell_type": "code",
   "execution_count": 37,
   "id": "irish-dispatch",
   "metadata": {},
   "outputs": [],
   "source": [
    "@app.callback(Output('color-output', 'children'),\n",
    "              Input('color-Dropdown','value'))\n",
    "\n",
    "def display_selected_color(color):\n",
    "    if color is None:\n",
    "        color = 'nothing'\n",
    "    return 'You selected ' + color"
   ]
  },
  {
   "cell_type": "code",
   "execution_count": 38,
   "id": "behind-assist",
   "metadata": {},
   "outputs": [
    {
     "data": {
      "text/html": [
       "\n",
       "        <iframe\n",
       "            width=\"100%\"\n",
       "            height=\"650\"\n",
       "            src=\"http://127.0.0.1:8050/\"\n",
       "            frameborder=\"0\"\n",
       "            allowfullscreen\n",
       "        ></iframe>\n",
       "        "
      ],
      "text/plain": [
       "<IPython.lib.display.IFrame at 0x1afe5913898>"
      ]
     },
     "metadata": {},
     "output_type": "display_data"
    }
   ],
   "source": [
    "if __name__ == \"__main__\":\n",
    "    app.run_server(mode='inline')"
   ]
  },
  {
   "cell_type": "code",
   "execution_count": null,
   "id": "chemical-fields",
   "metadata": {},
   "outputs": [],
   "source": []
  }
 ],
 "metadata": {
  "kernelspec": {
   "display_name": "Python 3",
   "language": "python",
   "name": "python3"
  },
  "language_info": {
   "codemirror_mode": {
    "name": "ipython",
    "version": 3
   },
   "file_extension": ".py",
   "mimetype": "text/x-python",
   "name": "python",
   "nbconvert_exporter": "python",
   "pygments_lexer": "ipython3",
   "version": "3.7.0"
  }
 },
 "nbformat": 4,
 "nbformat_minor": 5
}
